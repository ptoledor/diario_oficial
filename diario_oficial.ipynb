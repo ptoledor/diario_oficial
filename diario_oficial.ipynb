{
 "cells": [
  {
   "cell_type": "code",
   "execution_count": null,
   "metadata": {},
   "outputs": [],
   "source": [
    "import requests\n",
    "import pandas as pd\n",
    "import time\n",
    "import datetime"
   ]
  },
  {
   "cell_type": "code",
   "execution_count": null,
   "metadata": {},
   "outputs": [],
   "source": [
    "from bs4 import BeautifulSoup"
   ]
  },
  {
   "cell_type": "code",
   "execution_count": null,
   "metadata": {},
   "outputs": [],
   "source": [
    "from selenium import webdriver\n",
    "from selenium.webdriver.firefox.options import Options\n",
    "from selenium.webdriver.firefox.service import Service\n",
    "from webdriver_manager.firefox import GeckoDriverManager\n",
    "from selenium.webdriver.support.ui import WebDriverWait\n",
    "from selenium.webdriver.common.by import By\n",
    "from selenium.webdriver.support import expected_conditions as EC\n",
    "\n",
    "\n",
    "# Opciones y preferencias de Firefox\n",
    "options = Options()\n",
    "\n",
    "# Establece la carpeta de descargas\n",
    "options.set_preference(\"browser.download.folderList\", 2)  # 0 para descargar en la carpeta de descargas por defecto, 2 para usar una ubicación específica.\n",
    "options.set_preference(\"browser.download.dir\", \".\")  # Cambia \"/path/to/download/directory\" por tu ruta específica.\n",
    "options.set_preference(\"browser.helperApps.neverAsk.saveToDisk\", \"application/pdf\")  # MIME type para pdf\n",
    "options.set_preference(\"pdfjs.disabled\", True)  # Desactiva el visor de PDF de Firefox\n",
    "options.headless = True\n",
    "\n",
    "# Inicia el navegador con las opciones configuradas\n",
    "driver = webdriver.Firefox(service=Service(GeckoDriverManager().install()), options=options)\n"
   ]
  },
  {
   "cell_type": "code",
   "execution_count": null,
   "metadata": {},
   "outputs": [],
   "source": [
    "inix = '2016-08-17'\n",
    "fechas = pd.date_range(start='2017-12-24', end='2023-06-15', freq='D')\n",
    "fechas = pd.DataFrame(fechas, columns=['f1'])\n",
    "fechas['f2'] = fechas['f1'].dt.strftime('%d-%m-%Y').astype(str)\n",
    "fechas['nombre_dia'] = fechas['f1'].dt.day_name().str.upper()\n",
    "fechas['no_dia'] = fechas['f1'].apply(lambda x: x.weekday())\n",
    "fechas"
   ]
  },
  {
   "cell_type": "code",
   "execution_count": null,
   "metadata": {},
   "outputs": [],
   "source": [
    "def scrap_page(fecha, nomdia):\n",
    "    driver.get('https://www.diariooficial.interior.gob.cl/edicionelectronica/index.php?date=' + fecha)\n",
    "    #esperar hasta que este cargada la imagen\n",
    "    wait = WebDriverWait(driver, 20)\n",
    "    element = wait.until(EC.visibility_of_element_located((By.XPATH, '/html/body/div[1]/header/a[1]/img')))\n",
    "\n",
    "    soup = BeautifulSoup(driver.page_source, 'html.parser')\n",
    "    items = soup.find_all('a', string='Ver edición')\n",
    "    if len(items) > 0:\n",
    "        for link in items:\n",
    "            href = link.get('href')\n",
    "            driver.get('https://www.diariooficial.interior.gob.cl/edicionelectronica/' + href)\n",
    "            #esperar hasta que este cargada la imagen\n",
    "            wait = WebDriverWait(driver, 20)\n",
    "            element = wait.until(EC.element_to_be_clickable((By.XPATH, '/html/body/div[1]/header/a[1]/img')))\n",
    "            element.click()\n",
    "            time.sleep(0.5)\n",
    "            get_pdf(fecha)\n",
    "\n",
    "    else:\n",
    "        get_pdf(fecha, nomdia)\n",
    "\n",
    "    return\n",
    "\n",
    "\n",
    "def get_pdf(fecha, nomdia):\n",
    "    wait = WebDriverWait(driver, 20)\n",
    "    element = wait.until(EC.element_to_be_clickable((By.XPATH, '/html/body/div[1]/header/div[2]/ul/li[3]/a')))\n",
    "\n",
    "    url = element.get_attribute('href')\n",
    "    if url[-5:] == '/.pdf' and nomdia == 'SUNDAY':\n",
    "        print(fecha, 'Domingo, PDF no disponible')\n",
    "        return\n",
    "\n",
    "    elif url[-5:] == '/.pdf':\n",
    "        print(fecha, 'PDF no disponible')\n",
    "        return\n",
    "\n",
    "    element.click()\n",
    "    time.sleep(2)\n",
    "    return"
   ]
  },
  {
   "cell_type": "code",
   "execution_count": null,
   "metadata": {},
   "outputs": [],
   "source": [
    "for ix in fechas.index:\n",
    "    fecha = fechas.loc[ix, 'f2']\n",
    "    nomdia = fechas.loc[ix, 'nombre_dia']\n",
    "    try:\n",
    "        scrap_page(fecha, nomdia)\n",
    "    except:\n",
    "        print(fecha, 'Error')\n",
    "        continue"
   ]
  }
 ],
 "metadata": {
  "kernelspec": {
   "display_name": "base",
   "language": "python",
   "name": "python3"
  },
  "language_info": {
   "codemirror_mode": {
    "name": "ipython",
    "version": 3
   },
   "file_extension": ".py",
   "mimetype": "text/x-python",
   "name": "python",
   "nbconvert_exporter": "python",
   "pygments_lexer": "ipython3",
   "version": "3.11.4"
  },
  "vscode": {
   "interpreter": {
    "hash": "ad2bdc8ecc057115af97d19610ffacc2b4e99fae6737bb82f5d7fb13d2f2c186"
   }
  }
 },
 "nbformat": 4,
 "nbformat_minor": 4
}
